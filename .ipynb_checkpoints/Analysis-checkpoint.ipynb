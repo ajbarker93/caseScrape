{
 "cells": [
  {
   "cell_type": "code",
   "execution_count": 9,
   "metadata": {},
   "outputs": [],
   "source": [
    "# Import libraries\n",
    "import json\n",
    "import os\n",
    "from os import listdir\n",
    "from os.path import isfile, join\n",
    "import numpy as np\n",
    "import matplotlib.pyplot as plt\n",
    "import pandas as pd\n",
    "from price_parser import Price\n",
    "from sklearn.linear_model import LinearRegression\n",
    "from forex_python.converter import CurrencyRates\n",
    "import seaborn as sns\n",
    "import datefinder"
   ]
  },
  {
   "cell_type": "code",
   "execution_count": 10,
   "metadata": {},
   "outputs": [],
   "source": [
    "# Import pickle file of results content\n",
    "results = pd.read_pickle(\"./results.pkl\")"
   ]
  },
  {
   "cell_type": "code",
   "execution_count": 11,
   "metadata": {},
   "outputs": [
    {
     "name": "stdout",
     "output_type": "stream",
     "text": [
      "18719\n"
     ]
    },
    {
     "data": {
      "text/html": [
       "<div>\n",
       "<style scoped>\n",
       "    .dataframe tbody tr th:only-of-type {\n",
       "        vertical-align: middle;\n",
       "    }\n",
       "\n",
       "    .dataframe tbody tr th {\n",
       "        vertical-align: top;\n",
       "    }\n",
       "\n",
       "    .dataframe thead th {\n",
       "        text-align: right;\n",
       "    }\n",
       "</style>\n",
       "<table border=\"1\" class=\"dataframe\">\n",
       "  <thead>\n",
       "    <tr style=\"text-align: right;\">\n",
       "      <th></th>\n",
       "      <th>case</th>\n",
       "      <th>case_id</th>\n",
       "      <th>content</th>\n",
       "      <th>claimed</th>\n",
       "      <th>awarded</th>\n",
       "      <th>num_awarded</th>\n",
       "      <th>num_claimed</th>\n",
       "      <th>violation</th>\n",
       "      <th>conclusion</th>\n",
       "      <th>importance</th>\n",
       "      <th>originatingbody</th>\n",
       "      <th>case_date</th>\n",
       "      <th>article</th>\n",
       "      <th>originator</th>\n",
       "      <th>defendant</th>\n",
       "      <th>type</th>\n",
       "    </tr>\n",
       "  </thead>\n",
       "  <tbody>\n",
       "    <tr>\n",
       "      <th>100</th>\n",
       "      <td>AFFAIRE IMMEUBLES GROUPE KOSSER c. FRANCE</td>\n",
       "      <td>001-64897</td>\n",
       "      <td>PREMIÈRE SECTION   AFFAIRE IMMEUBLES GROUPE ...</td>\n",
       "      <td>AFFAIRE IMMEUBLES GROUPE KOSSER c. FRANCE  ...</td>\n",
       "      <td>AFFAIRE IMMEUBLES GROUPE KOSSER c. FRANCE  ...</td>\n",
       "      <td>[26571387, 50000, 3000]</td>\n",
       "      <td>[26571387, 50000, 3000]</td>\n",
       "      <td>6;6-1</td>\n",
       "      <td>Non-violation de l'art. 6-1 en ce qui concerne...</td>\n",
       "      <td>3</td>\n",
       "      <td>4</td>\n",
       "      <td></td>\n",
       "      <td>p6</td>\n",
       "      <td>Kosser</td>\n",
       "      <td>France</td>\n",
       "      <td></td>\n",
       "    </tr>\n",
       "    <tr>\n",
       "      <th>101</th>\n",
       "      <td>AFFAIRE APBP c. FRANCE</td>\n",
       "      <td>001-64899</td>\n",
       "      <td>PREMIÈRE SECTION   AFFAIRE APBP c. FRANCE   ...</td>\n",
       "      <td>AFFAIRE APBP c. FRANCE   (Requête n° 38436/...</td>\n",
       "      <td>AFFAIRE APBP c. FRANCE   (Requête n° 38436/...</td>\n",
       "      <td>[10200630, 15, 3000]</td>\n",
       "      <td>[10200630, 15, 3000]</td>\n",
       "      <td>6;6-1</td>\n",
       "      <td>Non-violation de l'art. 6-1 en ce qui concerne...</td>\n",
       "      <td>3</td>\n",
       "      <td>4</td>\n",
       "      <td></td>\n",
       "      <td>p6</td>\n",
       "      <td>Rozakis\\n\\tGreffier\\tPrésident Apbp</td>\n",
       "      <td>France</td>\n",
       "      <td></td>\n",
       "    </tr>\n",
       "    <tr>\n",
       "      <th>110</th>\n",
       "      <td>CASE OF VISSER v. THE NETHERLANDS</td>\n",
       "      <td>001-60112</td>\n",
       "      <td>THIRD SECTION       CASE OF VISSER v. THE N...</td>\n",
       "      <td>CASE OF VISSER v. THE NETHERLANDS  (App...</td>\n",
       "      <td>CASE OF VISSER v. THE NETHERLANDS  (App...</td>\n",
       "      <td>[0]</td>\n",
       "      <td>[0]</td>\n",
       "      <td>6;6-1</td>\n",
       "      <td>Violation of Art. 6-1 and 6-3-d;Pecuniary dama...</td>\n",
       "      <td>2</td>\n",
       "      <td>6</td>\n",
       "      <td>2021-05-29 00:00:00</td>\n",
       "      <td>p6</td>\n",
       "      <td>Visser</td>\n",
       "      <td>The</td>\n",
       "      <td></td>\n",
       "    </tr>\n",
       "    <tr>\n",
       "      <th>146</th>\n",
       "      <td>AFFAIRE VOLKWEIN c. ALLEMAGNE</td>\n",
       "      <td>001-64964</td>\n",
       "      <td>TROISIÈME SECTION   AFFAIRE VOLKWEIN c. ALLEM...</td>\n",
       "      <td>AFFAIRE VOLKWEIN c. ALLEMAGNE   (Requête n°...</td>\n",
       "      <td>AFFAIRE VOLKWEIN c. ALLEMAGNE   (Requête n°...</td>\n",
       "      <td>[6000, 41, 2675, 41, 3000, 1200]</td>\n",
       "      <td>[6000, 41, 2675, 41, 3000, 1200]</td>\n",
       "      <td>6;6-1</td>\n",
       "      <td>Violation de l'art. 6-1;Dommage matériel - dem...</td>\n",
       "      <td>4</td>\n",
       "      <td>6</td>\n",
       "      <td></td>\n",
       "      <td>p6</td>\n",
       "      <td>Volkwein</td>\n",
       "      <td>Allemagne</td>\n",
       "      <td></td>\n",
       "    </tr>\n",
       "    <tr>\n",
       "      <th>188</th>\n",
       "      <td>AFFAIRE ADAMOGIANNIS c. GRECE</td>\n",
       "      <td>001-64882</td>\n",
       "      <td>PREMIÈRE SECTION   AFFAIRE ADAMOGIANNIS c. G...</td>\n",
       "      <td>AFFAIRE ADAMOGIANNIS c. GRÈCE   (Requête n°...</td>\n",
       "      <td>AFFAIRE ADAMOGIANNIS c. GRÈCE   (Requête n°...</td>\n",
       "      <td>[0]</td>\n",
       "      <td>[0]</td>\n",
       "      <td>6;6-1</td>\n",
       "      <td>Violation de l'art. 6-1</td>\n",
       "      <td>3</td>\n",
       "      <td>4</td>\n",
       "      <td></td>\n",
       "      <td>p6</td>\n",
       "      <td>Adamogiannis</td>\n",
       "      <td>Grece</td>\n",
       "      <td></td>\n",
       "    </tr>\n",
       "  </tbody>\n",
       "</table>\n",
       "</div>"
      ],
      "text/plain": [
       "                                          case    case_id  \\\n",
       "100  AFFAIRE IMMEUBLES GROUPE KOSSER c. FRANCE  001-64897   \n",
       "101                     AFFAIRE APBP c. FRANCE  001-64899   \n",
       "110          CASE OF VISSER v. THE NETHERLANDS  001-60112   \n",
       "146              AFFAIRE VOLKWEIN c. ALLEMAGNE  001-64964   \n",
       "188              AFFAIRE ADAMOGIANNIS c. GRECE  001-64882   \n",
       "\n",
       "                                               content  \\\n",
       "100    PREMIÈRE SECTION   AFFAIRE IMMEUBLES GROUPE ...   \n",
       "101    PREMIÈRE SECTION   AFFAIRE APBP c. FRANCE   ...   \n",
       "110     THIRD SECTION       CASE OF VISSER v. THE N...   \n",
       "146   TROISIÈME SECTION   AFFAIRE VOLKWEIN c. ALLEM...   \n",
       "188    PREMIÈRE SECTION   AFFAIRE ADAMOGIANNIS c. G...   \n",
       "\n",
       "                                               claimed  \\\n",
       "100     AFFAIRE IMMEUBLES GROUPE KOSSER c. FRANCE  ...   \n",
       "101     AFFAIRE APBP c. FRANCE   (Requête n° 38436/...   \n",
       "110         CASE OF VISSER v. THE NETHERLANDS  (App...   \n",
       "146     AFFAIRE VOLKWEIN c. ALLEMAGNE   (Requête n°...   \n",
       "188     AFFAIRE ADAMOGIANNIS c. GRÈCE   (Requête n°...   \n",
       "\n",
       "                                               awarded  \\\n",
       "100     AFFAIRE IMMEUBLES GROUPE KOSSER c. FRANCE  ...   \n",
       "101     AFFAIRE APBP c. FRANCE   (Requête n° 38436/...   \n",
       "110         CASE OF VISSER v. THE NETHERLANDS  (App...   \n",
       "146     AFFAIRE VOLKWEIN c. ALLEMAGNE   (Requête n°...   \n",
       "188     AFFAIRE ADAMOGIANNIS c. GRÈCE   (Requête n°...   \n",
       "\n",
       "                          num_awarded                       num_claimed  \\\n",
       "100           [26571387, 50000, 3000]           [26571387, 50000, 3000]   \n",
       "101              [10200630, 15, 3000]              [10200630, 15, 3000]   \n",
       "110                               [0]                               [0]   \n",
       "146  [6000, 41, 2675, 41, 3000, 1200]  [6000, 41, 2675, 41, 3000, 1200]   \n",
       "188                               [0]                               [0]   \n",
       "\n",
       "    violation                                         conclusion importance  \\\n",
       "100     6;6-1  Non-violation de l'art. 6-1 en ce qui concerne...          3   \n",
       "101     6;6-1  Non-violation de l'art. 6-1 en ce qui concerne...          3   \n",
       "110     6;6-1  Violation of Art. 6-1 and 6-3-d;Pecuniary dama...          2   \n",
       "146     6;6-1  Violation de l'art. 6-1;Dommage matériel - dem...          4   \n",
       "188     6;6-1                            Violation de l'art. 6-1          3   \n",
       "\n",
       "    originatingbody            case_date article  \\\n",
       "100               4                           p6   \n",
       "101               4                           p6   \n",
       "110               6  2021-05-29 00:00:00      p6   \n",
       "146               6                           p6   \n",
       "188               4                           p6   \n",
       "\n",
       "                              originator  defendant type  \n",
       "100                               Kosser     France       \n",
       "101  Rozakis\\n\\tGreffier\\tPrésident Apbp     France       \n",
       "110                               Visser        The       \n",
       "146                             Volkwein  Allemagne       \n",
       "188                         Adamogiannis      Grece       "
      ]
     },
     "execution_count": 11,
     "metadata": {},
     "output_type": "execute_result"
    }
   ],
   "source": [
    "# Check results\n",
    "print(len(results))\n",
    "\n",
    "results.head()"
   ]
  },
  {
   "cell_type": "code",
   "execution_count": 12,
   "metadata": {},
   "outputs": [
    {
     "data": {
      "image/png": "[encoded data removed]",
      "text/plain": [
       "<Figure size 432x288 with 2 Axes>"
      ]
     },
     "metadata": {
      "needs_background": "light"
     },
     "output_type": "display_data"
    }
   ],
   "source": [
    "# Look at distribution of claimed values\n",
    "\n",
    "# First ungroup\n",
    "results2 = results.explode('num_claimed')\n",
    "\n",
    "# Set plot params\n",
    "minlim = 1e2\n",
    "maxlim = 1e5\n",
    "bns = 100\n",
    "\n",
    "# Plot P11 cases and 'others'\n",
    "p_1 = results2['num_claimed'][(results2['num_claimed']>minlim)&(results2['num_claimed']<maxlim)&(results2['article']=='p1')]\n",
    "p_other = results2['num_claimed'][(results2['num_claimed']>minlim)&(results2['num_claimed']<maxlim)&(results2['article']!='p1')]\n",
    "\n",
    "# Plot\n",
    "ax = sns.distplot(p_1,kde=False, bins=bns)\n",
    "ax.set_title('Distribution of claimed quantities')\n",
    "ax.set_xlabel('Claimed (USD)')\n",
    "ax.set_ylabel('Counts')\n",
    "ax2 = plt.twinx()\n",
    "ax2 = sns.distplot(p_other, kde=False, color='green', bins=bns)\n",
    "ax2.set_ylabel('Counts')\n",
    "plt.show()"
   ]
  },
  {
   "cell_type": "code",
   "execution_count": 13,
   "metadata": {},
   "outputs": [
    {
     "data": {
      "image/png": "[encoded data removed]",
      "text/plain": [
       "<Figure size 432x288 with 2 Axes>"
      ]
     },
     "metadata": {
      "needs_background": "light"
     },
     "output_type": "display_data"
    }
   ],
   "source": [
    "# Look at distribution of awarded values\n",
    "\n",
    "# First ungroup\n",
    "results2 = results.explode('num_awarded')\n",
    "\n",
    "minlim = 1e2\n",
    "maxlim = 1e5\n",
    "bns = 100\n",
    "\n",
    "# Plot P11 cases and 'others'\n",
    "p_1 = results2['num_awarded'][(results2['num_awarded']>minlim)&(results2['num_awarded']<maxlim)&(results2['article']=='p13')]\n",
    "p_other = results2['num_awarded'][(results2['num_awarded']>minlim)&(results2['num_awarded']<maxlim)&(results2['article']!='p13')]\n",
    "\n",
    "# Plot\n",
    "ax = sns.distplot(p_1,kde=False, bins=bns)\n",
    "ax.set_title('Distribution of claimed quantities')\n",
    "ax.set_xlabel('Claimed (USD)')\n",
    "ax.set_ylabel('Counts')\n",
    "ax2 = plt.twinx()\n",
    "ax2 = sns.distplot(p_other, kde=False, color='green', bins=bns)\n",
    "ax2.set_ylabel('Counts')\n",
    "plt.show()"
   ]
  },
  {
   "cell_type": "code",
   "execution_count": 14,
   "metadata": {},
   "outputs": [
    {
     "data": {
      "image/png": "[encoded data removed]",
      "text/plain": [
       "<Figure size 432x288 with 1 Axes>"
      ]
     },
     "metadata": {
      "needs_background": "light"
     },
     "output_type": "display_data"
    }
   ],
   "source": [
    "# First ungroup\n",
    "results2 = results.explode('num_awarded')\n",
    "results2 = results2.explode('num_claimed')\n",
    "\n",
    "x = results2['num_claimed'][(results2['num_claimed']>minlim)&(results2['num_claimed']<maxlim)]\n",
    "y = results2['num_awarded'][(results2['num_claimed']>minlim)&(results2['num_claimed']<maxlim)]\n",
    "\n",
    "# Quick plotting\n",
    "plt.scatter(x,y)\n",
    "plt.xlabel('Claimed')\n",
    "plt.ylabel('Awarded')\n",
    "plt.xlim((0,maxlim))\n",
    "plt.ylim((0,maxlim))\n",
    "plt.show()"
   ]
  },
  {
   "cell_type": "code",
   "execution_count": null,
   "metadata": {},
   "outputs": [],
   "source": []
  }
 ],
 "metadata": {
  "kernelspec": {
   "display_name": "Python 3",
   "language": "python",
   "name": "python3"
  },
  "language_info": {
   "codemirror_mode": {
    "name": "ipython",
    "version": 3
   },
   "file_extension": ".py",
   "mimetype": "text/x-python",
   "name": "python",
   "nbconvert_exporter": "python",
   "pygments_lexer": "ipython3",
   "version": "3.7.6"
  }
 },
 "nbformat": 4,
 "nbformat_minor": 4
}
