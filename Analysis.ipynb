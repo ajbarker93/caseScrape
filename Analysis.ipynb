{
 "cells": [
  {
   "cell_type": "code",
   "execution_count": null,
   "metadata": {},
   "outputs": [],
   "source": [
    "# Import libraries\n",
    "import json\n",
    "import os\n",
    "from os import listdir\n",
    "from os.path import isfile, join\n",
    "import numpy as np\n",
    "import matplotlib.pyplot as plt\n",
    "import pandas as pd\n",
    "from price_parser import Price\n",
    "from sklearn.linear_model import LinearRegression\n",
    "from forex_python.converter import CurrencyRates\n",
    "import seaborn as sns\n",
    "import datefinder"
   ]
  },
  {
   "cell_type": "code",
   "execution_count": null,
   "metadata": {},
   "outputs": [],
   "source": [
    "# Import pickle file of results content\n",
    "results = pd.read_pickle(\"./results.pkl\")"
   ]
  },
  {
   "cell_type": "code",
   "execution_count": null,
   "metadata": {},
   "outputs": [],
   "source": [
    "# Check results\n",
    "print(len(results))\n",
    "\n",
    "results.head()"
   ]
  },
  {
   "cell_type": "code",
   "execution_count": null,
   "metadata": {},
   "outputs": [],
   "source": [
    "# Look at distribution of claimed values\n",
    "\n",
    "# First ungroup\n",
    "results2 = results.explode('num_claimed')\n",
    "\n",
    "# Set plot params\n",
    "minlim = 1e2\n",
    "maxlim = 1e5\n",
    "bns = 100\n",
    "\n",
    "# Plot P11 cases and 'others'\n",
    "p_1 = results2['num_claimed'][(results2['num_claimed']>minlim)&(results2['num_claimed']<maxlim)&(results2['article']=='p1')]\n",
    "p_other = results2['num_claimed'][(results2['num_claimed']>minlim)&(results2['num_claimed']<maxlim)&(results2['article']!='p1')]\n",
    "\n",
    "# Plot\n",
    "ax = sns.distplot(p_1,kde=False, bins=bns)\n",
    "ax.set_title('Distribution of claimed quantities')\n",
    "ax.set_xlabel('Claimed (USD)')\n",
    "ax.set_ylabel('Counts')\n",
    "ax2 = plt.twinx()\n",
    "ax2 = sns.distplot(p_other, kde=False, color='green', bins=bns)\n",
    "ax2.set_ylabel('Counts')\n",
    "plt.show()"
   ]
  },
  {
   "cell_type": "code",
   "execution_count": null,
   "metadata": {},
   "outputs": [],
   "source": [
    "# Look at distribution of awarded values\n",
    "\n",
    "# First ungroup\n",
    "results2 = results.explode('num_awarded')\n",
    "\n",
    "minlim = 1e2\n",
    "maxlim = 1e5\n",
    "bns = 100\n",
    "\n",
    "# Plot P11 cases and 'others'\n",
    "p_1 = results2['num_awarded'][(results2['num_awarded']>minlim)&(results2['num_awarded']<maxlim)&(results2['article']=='p13')]\n",
    "p_other = results2['num_awarded'][(results2['num_awarded']>minlim)&(results2['num_awarded']<maxlim)&(results2['article']!='p13')]\n",
    "\n",
    "# Plot\n",
    "ax = sns.distplot(p_1,kde=False, bins=bns)\n",
    "ax.set_title('Distribution of claimed quantities')\n",
    "ax.set_xlabel('Claimed (USD)')\n",
    "ax.set_ylabel('Counts')\n",
    "ax2 = plt.twinx()\n",
    "ax2 = sns.distplot(p_other, kde=False, color='green', bins=bns)\n",
    "ax2.set_ylabel('Counts')\n",
    "plt.show()"
   ]
  },
  {
   "cell_type": "code",
   "execution_count": null,
   "metadata": {},
   "outputs": [],
   "source": [
    "# First ungroup\n",
    "results2 = results.explode('num_awarded')\n",
    "results2 = results2.explode('num_claimed')\n",
    "\n",
    "x = results2['num_claimed'][(results2['num_claimed']>minlim)&(results2['num_claimed']<maxlim)]\n",
    "y = results2['num_awarded'][(results2['num_claimed']>minlim)&(results2['num_claimed']<maxlim)]\n",
    "\n",
    "# Quick plotting\n",
    "plt.scatter(x,y)\n",
    "plt.xlabel('Claimed')\n",
    "plt.ylabel('Awarded')\n",
    "plt.xlim((0,maxlim))\n",
    "plt.ylim((0,maxlim))\n",
    "plt.show()"
   ]
  },
  {
   "cell_type": "code",
   "execution_count": null,
   "metadata": {},
   "outputs": [],
   "source": []
  }
 ],
 "metadata": {
  "kernelspec": {
   "display_name": "Python 3",
   "language": "python",
   "name": "python3"
  },
  "language_info": {
   "codemirror_mode": {
    "name": "ipython",
    "version": 3
   },
   "file_extension": ".py",
   "mimetype": "text/x-python",
   "name": "python",
   "nbconvert_exporter": "python",
   "pygments_lexer": "ipython3",
   "version": "3.7.6"
  }
 },
 "nbformat": 4,
 "nbformat_minor": 4
}
